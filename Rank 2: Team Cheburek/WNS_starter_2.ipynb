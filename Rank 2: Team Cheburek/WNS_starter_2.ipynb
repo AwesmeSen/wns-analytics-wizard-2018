{
 "cells": [
  {
   "cell_type": "code",
   "execution_count": 1,
   "metadata": {
    "collapsed": true
   },
   "outputs": [],
   "source": [
    "import numpy as np\n",
    "import pandas as pd\n",
    "import matplotlib.pyplot as plt\n",
    "import seaborn as sns\n",
    "\n",
    "from pylab import rcParams\n",
    "rcParams['figure.figsize'] = 8, 5"
   ]
  },
  {
   "cell_type": "code",
   "execution_count": 2,
   "metadata": {},
   "outputs": [
    {
     "name": "stderr",
     "output_type": "stream",
     "text": [
      "/anaconda3/lib/python3.6/site-packages/sklearn/ensemble/weight_boosting.py:29: DeprecationWarning: numpy.core.umath_tests is an internal NumPy module and should not be imported. It will be removed in a future NumPy release.\n",
      "  from numpy.core.umath_tests import inner1d\n"
     ]
    }
   ],
   "source": [
    "from sklearn.metrics import f1_score, roc_auc_score, log_loss, precision_score, recall_score, confusion_matrix\n",
    "from sklearn.model_selection import KFold, cross_val_predict\n",
    "from sklearn.tree import DecisionTreeClassifier\n",
    "from eli5.permutation_importance import get_score_importances\n",
    "import shap\n",
    "import lightgbm as lgb"
   ]
  },
  {
   "cell_type": "code",
   "execution_count": 3,
   "metadata": {
    "collapsed": true
   },
   "outputs": [],
   "source": [
    "class TrainTestHelper(object):\n",
    "    def __init__(self):\n",
    "        self.ntrain = None\n",
    "\n",
    "    def combine(self, train, test):\n",
    "        self.ntrain = train.shape[0]\n",
    "        if isinstance(train, np.ndarray):\n",
    "            return np.row_stack((train, test))\n",
    "        else:\n",
    "            return train.append(test).reset_index(drop=True)\n",
    "\n",
    "    def split(self, train_test):\n",
    "        if self.ntrain is None:\n",
    "            return None\n",
    "        if isinstance(train_test, np.ndarray):\n",
    "            train = train_test[:self.ntrain, :]\n",
    "            test = train_test[self.ntrain:, :]\n",
    "        else:\n",
    "            train = train_test.iloc[:self.ntrain, :].copy().reset_index(drop=True)\n",
    "            test = train_test.iloc[self.ntrain:, :].copy().reset_index(drop=True)\n",
    "        return train, test"
   ]
  },
  {
   "cell_type": "code",
   "execution_count": 4,
   "metadata": {
    "collapsed": true
   },
   "outputs": [],
   "source": [
    "class MeanEncoder(object):\n",
    "    def __init__(self, alpha=1, loo=False, noisy=False, noise_std=0, seed=0):\n",
    "        self.alpha = alpha\n",
    "        self.loo = loo\n",
    "        self.noisy = noisy\n",
    "        self.noise_std = noise_std\n",
    "        self.seed = np.random.RandomState(seed)\n",
    "    \n",
    "    # fit\n",
    "    def fit_column(self, X, y, col):\n",
    "        self.target_sums[col] = y.groupby(X[col]).sum()\n",
    "        self.target_counts[col] = y.groupby(X[col]).count()        \n",
    "        \n",
    "    def fit(self, X, y, cats):\n",
    "        self.global_mean = np.mean(y)\n",
    "        self.global_std = np.std(y) if self.noise_std is None else self.noise_std\n",
    "        self.target_sums = {}\n",
    "        self.target_counts = {}\n",
    "        for col in cats:\n",
    "            self.fit_column(X, y, col)\n",
    "    \n",
    "    # fit_transform\n",
    "    def fit_transform_column(self, X, y, col):\n",
    "        self.target_sums[col] = y.groupby(X[col]).sum()\n",
    "        self.target_counts[col] = y.groupby(X[col]).count()\n",
    "        \n",
    "        if self.noisy:\n",
    "            reg = self.seed.normal(loc=self.global_mean * self.alpha,\n",
    "                                     scale=self.global_std * np.sqrt(self.alpha),\n",
    "                                     size=len(y))\n",
    "        else:\n",
    "            reg = self.global_mean * self.alpha\n",
    "        \n",
    "        X_res_num = X[col].map(self.target_sums[col]) + reg\n",
    "        X_res_den = X[col].map(self.target_counts[col]) + self.alpha\n",
    "        \n",
    "        if self.loo:\n",
    "            X_res_num -= y\n",
    "            X_res_den -= 1\n",
    "        \n",
    "        return (X_res_num / X_res_den).values\n",
    "            \n",
    "    def fit_transform(self, X, y, cats):\n",
    "        self.global_mean = np.mean(y)\n",
    "        self.global_std = np.std(y) if self.noise_std is None else self.noise_std\n",
    "        self.target_sums = {}\n",
    "        self.target_counts = {}\n",
    "        X_res = pd.DataFrame()\n",
    "        \n",
    "        for col in cats:\n",
    "            X_res[col + '_mean_y'] = self.fit_transform_column(X, y, col)\n",
    "        \n",
    "        return X_res\n",
    "    \n",
    "    # transform\n",
    "    def transform_column(self, Xt, col):\n",
    "        Xt_res_num = Xt[col].map(self.target_sums[col]).fillna(0) + self.global_mean * self.alpha\n",
    "        Xt_res_den = Xt[col].map(self.target_counts[col]).fillna(0) + self.alpha\n",
    "        return (Xt_res_num / Xt_res_den).values\n",
    "    \n",
    "    def transform(self, Xt, cats):\n",
    "        Xt_res = pd.DataFrame()\n",
    "        for col in cats:\n",
    "            Xt_res[col + '_mean_y'] = self.transform_column(Xt, col)\n",
    "        return Xt_res"
   ]
  },
  {
   "cell_type": "code",
   "execution_count": 5,
   "metadata": {
    "collapsed": true
   },
   "outputs": [],
   "source": [
    "class LGBWizard(object):\n",
    "    def __init__(self, params, cvparams):\n",
    "        self.params = params\n",
    "        self.cvparams = cvparams\n",
    "        \n",
    "    def fit(self, X, y, test, permute=None, get_shap=False):\n",
    "        \n",
    "        def score(X, y):\n",
    "            pred = self.model.predict(X)\n",
    "            return self.cvparams['metric'](y, pred)\n",
    "        \n",
    "        k = 0\n",
    "        fold_scores = []\n",
    "        self.fold_preds = []\n",
    "        self.target = y\n",
    "        self.feature_names = X.columns\n",
    "        self.cvpred = np.zeros(X.shape[0])\n",
    "        self.pred = np.zeros(test.shape[0])\n",
    "        \n",
    "        self.split_imp = np.zeros(X.shape[1])\n",
    "        self.gain_imp = np.zeros(X.shape[1])\n",
    "        self.perm_imp = np.zeros(X.shape[1])\n",
    "        self.shap_imp = np.zeros(X.shape[1])\n",
    "        \n",
    "        for tr, te in self.cvparams['folds'].split(X, y):\n",
    "            xtr, xte = X.loc[tr], X.loc[te]\n",
    "            ytr, yte = y[tr], y[te]\n",
    "            \n",
    "            #train_mean_features = mean_enc.fit_transform(xtr, ytr, to_enc)\n",
    "            #xtr = np.concatenate((xtr, train_mean_features), axis=1)\n",
    "            \n",
    "            #test_mean_features = mean_enc.transform(xte, to_enc)\n",
    "            #xte = np.concatenate((xte, test_mean_features), axis=1)\n",
    "            \n",
    "            xtr = lgb.Dataset(xtr, label=ytr)\n",
    "            xval = lgb.Dataset(xte, label=yte, reference=xtr)\n",
    "            self.model = lgb.train(self.params, xtr,\n",
    "                              num_boost_round=self.cvparams['nround'], valid_sets=[xtr, xval],\n",
    "                              early_stopping_rounds=self.cvparams['stopping'], verbose_eval=self.cvparams['verbose'])\n",
    "            self.cvpred[te] = self.model.predict(xte)\n",
    "            self.fold_preds.append(self.model.predict(test))\n",
    "            fold_scores.append(self.cvparams['metric'](yte, self.cvpred[te]))\n",
    "            print('Fold {}: {:.5f}'.format(k, fold_scores[-1]))\n",
    "            \n",
    "            self.split_imp += self.model.feature_importance(importance_type='split')\n",
    "            self.gain_imp += self.model.feature_importance(importance_type='gain')\n",
    "            \n",
    "            if permute is not None:\n",
    "                _, local_imp = get_score_importances(score, xte.values, yte, n_iter=permute, random_state=0)\n",
    "                self.perm_imp += np.mean(local_imp, axis=0)\n",
    "                \n",
    "            if get_shap:\n",
    "                explainer = shap.TreeExplainer(self.model)\n",
    "                self.shap_imp += np.sum(np.abs(explainer.shap_values(X.loc[tr])), axis=0) #X.loc[tr]\n",
    "                \n",
    "            k += 1\n",
    "        \n",
    "        self.split_imp /= k\n",
    "        self.gain_imp /= k\n",
    "        self.perm_imp /= -1 * k\n",
    "        self.shap_imp /= k\n",
    "        self.pred = np.mean(self.fold_preds, axis=0)\n",
    "        \n",
    "        print()\n",
    "        print('Mean score: {:.5f}'.format(np.mean(fold_scores)))\n",
    "        print('OOF score: {:.5f}'.format(self.cvparams['metric'](y, self.cvpred)))\n",
    "        print('Std of score: {:.5f}'.format(np.std(fold_scores)))\n",
    "        print('Mean std of test objects: {:.5f}'.format(np.mean(np.std(self.fold_preds, axis=0))))\n",
    "    \n",
    "    def compute_error(self):\n",
    "        eps = 1e-5\n",
    "        self.error = pd.DataFrame()\n",
    "        self.error['MAE'] = np.abs(self.target - self.cvpred)\n",
    "        self.error['MSE'] = (self.target - self.cvpred) ** 2\n",
    "        self.error['MAPE'] = np.abs((self.target - self.cvpred) / (self.target + eps))\n",
    "        self.error['MSPE'] = ((self.target - self.cvpred) / (self.target + eps)) ** 2\n",
    "        return self.error\n",
    "    \n",
    "    def get_importances(self):\n",
    "        all_imp = pd.DataFrame(index=self.feature_names)\n",
    "        all_imp['permutation'] = self.perm_imp\n",
    "        all_imp['shap'] = self.shap_imp\n",
    "        all_imp['gain'] = self.gain_imp\n",
    "        all_imp['split'] = self.split_imp\n",
    "        return all_imp.sort_values(by='permutation', ascending=False)\n",
    "    \n",
    "    def plot_prediction(self, size=(12, 7)):\n",
    "        eps = 0.1\n",
    "        _, ax = plt.subplots(figsize=size)\n",
    "        ax.scatter(self.cvpred, self.target, c='#0047ab', alpha=0.3)\n",
    "        props = {'xlim': (np.min(self.target) - eps, np.max(self.target) + eps),\n",
    "                 'ylim': (np.min(self.target) - eps, np.max(self.target) + eps),\n",
    "                 'title': 'OOF Prediction vs Target',\n",
    "                 'xlabel': 'Prediction',\n",
    "                 'ylabel': 'Target'}\n",
    "        ax.set(**props)\n",
    "        diag, = ax.plot(props['xlim'], props['ylim'], ls='--', c='black')\n",
    "        plt.show()\n",
    "        \n",
    "    def plot_prediction_std(self, size=(15, 5)):\n",
    "        _, ax = plt.subplots(figsize=size)\n",
    "        ax.plot(np.std(self.fold_preds, axis=0), c='#0047ab')\n",
    "        props = {'xlabel': 'test_example',\n",
    "                 'ylabel': 'std_test_example',\n",
    "                 'title': 'Stds of test examples'}\n",
    "        ax.set(**props)\n",
    "        plt.show()\n",
    "    \n",
    "    def plot_importances(self, size=(5, 15)): ######\n",
    "        _, ax = plt.subplots(figsize=size)#########\n",
    "        ax.barh(width=self.perm_imp, c='#0047ab')########\n",
    "        plt.show()######\n",
    "\n",
    "    def plot_error(self, error_type='MSE', size=(15, 5)):\n",
    "        _, ax = plt.subplots(figsize=size)\n",
    "        ax.plot(self.error[error_type], c='#0047ab')\n",
    "        props = {'xlabel': 'train_example',\n",
    "                 'ylabel': error_type.lower() + '_train_example',\n",
    "                 'title': error_type + ' of examples'}\n",
    "        ax.set(**props)\n",
    "        plt.show()\n",
    "    \n",
    "    def get_error_histogram(self, error_type='MSE', size=(12, 7)):\n",
    "        _, ax = plt.subplots(figsize=size)\n",
    "        ax.hist(self.error[error_type], c='#0047ab')\n",
    "        props = {'xlabel': 'train_set_error',\n",
    "                 'ylabel': error_type.lower() + '_error_frequency',\n",
    "                 'title': 'Histogram ' + error_type + ' of examples'}\n",
    "        ax.set(**props)\n",
    "        plt.show()"
   ]
  },
  {
   "cell_type": "code",
   "execution_count": 6,
   "metadata": {
    "collapsed": true
   },
   "outputs": [],
   "source": [
    "train = pd.read_csv('train_LZdllcl.csv')\n",
    "test = pd.read_csv('test_2umaH9m.csv')\n",
    "sub = pd.read_csv('sample_submission_M0L0uXE.csv')\n",
    "del train['employee_id'], test['employee_id']"
   ]
  },
  {
   "cell_type": "code",
   "execution_count": 7,
   "metadata": {},
   "outputs": [
    {
     "name": "stdout",
     "output_type": "stream",
     "text": [
      "Train shape: (54808, 13)\n",
      "Test shape: (23490, 12)\n"
     ]
    }
   ],
   "source": [
    "print('Train shape:', train.shape)\n",
    "print('Test shape:', test.shape)"
   ]
  },
  {
   "cell_type": "markdown",
   "metadata": {},
   "source": [
    "### Target"
   ]
  },
  {
   "cell_type": "code",
   "execution_count": 8,
   "metadata": {},
   "outputs": [
    {
     "name": "stdout",
     "output_type": "stream",
     "text": [
      "Non-zero target values %: 8.52\n"
     ]
    }
   ],
   "source": [
    "print('Non-zero target values %:', round(train['is_promoted'].mean() * 100, 2))"
   ]
  },
  {
   "cell_type": "markdown",
   "metadata": {},
   "source": [
    "### Department"
   ]
  },
  {
   "cell_type": "code",
   "execution_count": 9,
   "metadata": {},
   "outputs": [
    {
     "data": {
      "text/plain": [
       "<matplotlib.axes._subplots.AxesSubplot at 0x102e888d0>"
      ]
     },
     "execution_count": 9,
     "metadata": {},
     "output_type": "execute_result"
    },
    {
     "data": {
      "image/png": "[encoded data removed]",
      "text/plain": [
       "<matplotlib.figure.Figure at 0x1166205c0>"
      ]
     },
     "metadata": {},
     "output_type": "display_data"
    }
   ],
   "source": [
    "train['department'].value_counts(normalize=True).plot(kind='barh')"
   ]
  },
  {
   "cell_type": "code",
   "execution_count": 10,
   "metadata": {},
   "outputs": [
    {
     "data": {
      "text/plain": [
       "<matplotlib.axes._subplots.AxesSubplot at 0x116eb1cf8>"
      ]
     },
     "execution_count": 10,
     "metadata": {},
     "output_type": "execute_result"
    },
    {
     "data": {
      "image/png": "[encoded data removed]",
      "text/plain": [
       "<matplotlib.figure.Figure at 0x116620470>"
      ]
     },
     "metadata": {},
     "output_type": "display_data"
    }
   ],
   "source": [
    "test['department'].value_counts(normalize=True).plot(kind='barh')"
   ]
  },
  {
   "cell_type": "code",
   "execution_count": 11,
   "metadata": {},
   "outputs": [
    {
     "data": {
      "text/plain": [
       "<matplotlib.axes._subplots.AxesSubplot at 0x1172f7eb8>"
      ]
     },
     "execution_count": 11,
     "metadata": {},
     "output_type": "execute_result"
    },
    {
     "data": {
      "image/png": "[encoded data removed]",
      "text/plain": [
       "<matplotlib.figure.Figure at 0x102ecba90>"
      ]
     },
     "metadata": {},
     "output_type": "display_data"
    }
   ],
   "source": [
    "train.groupby('department')['is_promoted'].mean().plot(kind='barh')"
   ]
  },
  {
   "cell_type": "markdown",
   "metadata": {},
   "source": [
    "### Education"
   ]
  },
  {
   "cell_type": "code",
   "execution_count": 12,
   "metadata": {},
   "outputs": [
    {
     "data": {
      "text/plain": [
       "Bachelor's          0.699803\n",
       "Master's & above    0.284834\n",
       "Below Secondary     0.015363\n",
       "Name: education, dtype: float64"
      ]
     },
     "execution_count": 12,
     "metadata": {},
     "output_type": "execute_result"
    }
   ],
   "source": [
    "train['education'].value_counts(normalize=True)"
   ]
  },
  {
   "cell_type": "code",
   "execution_count": 13,
   "metadata": {},
   "outputs": [
    {
     "data": {
      "text/plain": [
       "Bachelor's          0.693712\n",
       "Master's & above    0.289633\n",
       "Below Secondary     0.016655\n",
       "Name: education, dtype: float64"
      ]
     },
     "execution_count": 13,
     "metadata": {},
     "output_type": "execute_result"
    }
   ],
   "source": [
    "test['education'].value_counts(normalize=True)"
   ]
  },
  {
   "cell_type": "code",
   "execution_count": 14,
   "metadata": {},
   "outputs": [
    {
     "data": {
      "text/plain": [
       "<matplotlib.axes._subplots.AxesSubplot at 0x1183aae80>"
      ]
     },
     "execution_count": 14,
     "metadata": {},
     "output_type": "execute_result"
    },
    {
     "data": {
      "image/png": "[encoded data removed]",
      "text/plain": [
       "<matplotlib.figure.Figure at 0x117350ac8>"
      ]
     },
     "metadata": {},
     "output_type": "display_data"
    }
   ],
   "source": [
    "train.groupby('education')['is_promoted'].mean().plot(kind='barh')"
   ]
  },
  {
   "cell_type": "markdown",
   "metadata": {},
   "source": [
    "### Region"
   ]
  },
  {
   "cell_type": "code",
   "execution_count": 15,
   "metadata": {},
   "outputs": [
    {
     "data": {
      "text/plain": [
       "<matplotlib.axes._subplots.AxesSubplot at 0x1173508d0>"
      ]
     },
     "execution_count": 15,
     "metadata": {},
     "output_type": "execute_result"
    },
    {
     "data": {
      "image/png": "[encoded data removed]",
      "text/plain": [
       "<matplotlib.figure.Figure at 0x1173e7470>"
      ]
     },
     "metadata": {},
     "output_type": "display_data"
    }
   ],
   "source": [
    "train['region'].value_counts(normalize=True).plot(kind='bar')"
   ]
  },
  {
   "cell_type": "code",
   "execution_count": 16,
   "metadata": {},
   "outputs": [
    {
     "data": {
      "text/plain": [
       "<matplotlib.axes._subplots.AxesSubplot at 0x11859b9b0>"
      ]
     },
     "execution_count": 16,
     "metadata": {},
     "output_type": "execute_result"
    },
    {
     "data": {
      "image/png": "[encoded data removed]",
      "text/plain": [
       "<matplotlib.figure.Figure at 0x1185ac0b8>"
      ]
     },
     "metadata": {},
     "output_type": "display_data"
    }
   ],
   "source": [
    "test['region'].value_counts(normalize=True).plot(kind='bar')"
   ]
  },
  {
   "cell_type": "code",
   "execution_count": 17,
   "metadata": {},
   "outputs": [
    {
     "data": {
      "text/plain": [
       "<matplotlib.axes._subplots.AxesSubplot at 0x1186f5320>"
      ]
     },
     "execution_count": 17,
     "metadata": {},
     "output_type": "execute_result"
    },
    {
     "data": {
      "image/png": "[encoded data removed]",
      "text/plain": [
       "<matplotlib.figure.Figure at 0x118703320>"
      ]
     },
     "metadata": {},
     "output_type": "display_data"
    }
   ],
   "source": [
    "train.groupby('region')['is_promoted'].mean().plot(kind='barh')"
   ]
  },
  {
   "cell_type": "markdown",
   "metadata": {},
   "source": [
    "### Gender"
   ]
  },
  {
   "cell_type": "code",
   "execution_count": 18,
   "metadata": {},
   "outputs": [
    {
     "data": {
      "text/plain": [
       "m    0.702379\n",
       "f    0.297621\n",
       "Name: gender, dtype: float64"
      ]
     },
     "execution_count": 18,
     "metadata": {},
     "output_type": "execute_result"
    }
   ],
   "source": [
    "train['gender'].value_counts(normalize=True)"
   ]
  },
  {
   "cell_type": "code",
   "execution_count": 19,
   "metadata": {},
   "outputs": [
    {
     "data": {
      "text/plain": [
       "m    0.706513\n",
       "f    0.293487\n",
       "Name: gender, dtype: float64"
      ]
     },
     "execution_count": 19,
     "metadata": {},
     "output_type": "execute_result"
    }
   ],
   "source": [
    "test['gender'].value_counts(normalize=True)"
   ]
  },
  {
   "cell_type": "code",
   "execution_count": 20,
   "metadata": {},
   "outputs": [
    {
     "data": {
      "text/plain": [
       "<matplotlib.axes._subplots.AxesSubplot at 0x1188827b8>"
      ]
     },
     "execution_count": 20,
     "metadata": {},
     "output_type": "execute_result"
    },
    {
     "data": {
      "image/png": "[encoded data removed]",
      "text/plain": [
       "<matplotlib.figure.Figure at 0x118899080>"
      ]
     },
     "metadata": {},
     "output_type": "display_data"
    }
   ],
   "source": [
    "train.groupby('gender')['is_promoted'].mean().plot(kind='barh')"
   ]
  },
  {
   "cell_type": "markdown",
   "metadata": {},
   "source": [
    "### Recruitment_channel"
   ]
  },
  {
   "cell_type": "code",
   "execution_count": 21,
   "metadata": {},
   "outputs": [
    {
     "data": {
      "text/plain": [
       "other       0.555503\n",
       "sourcing    0.423661\n",
       "referred    0.020836\n",
       "Name: recruitment_channel, dtype: float64"
      ]
     },
     "execution_count": 21,
     "metadata": {},
     "output_type": "execute_result"
    }
   ],
   "source": [
    "train['recruitment_channel'].value_counts(normalize=True)"
   ]
  },
  {
   "cell_type": "code",
   "execution_count": 22,
   "metadata": {},
   "outputs": [
    {
     "data": {
      "text/plain": [
       "other       0.556748\n",
       "sourcing    0.424053\n",
       "referred    0.019200\n",
       "Name: recruitment_channel, dtype: float64"
      ]
     },
     "execution_count": 22,
     "metadata": {},
     "output_type": "execute_result"
    }
   ],
   "source": [
    "test['recruitment_channel'].value_counts(normalize=True)"
   ]
  },
  {
   "cell_type": "code",
   "execution_count": 23,
   "metadata": {},
   "outputs": [
    {
     "data": {
      "text/plain": [
       "<matplotlib.axes._subplots.AxesSubplot at 0x1189cfba8>"
      ]
     },
     "execution_count": 23,
     "metadata": {},
     "output_type": "execute_result"
    },
    {
     "data": {
      "image/png": "[encoded data removed]",
      "text/plain": [
       "<matplotlib.figure.Figure at 0x1187034a8>"
      ]
     },
     "metadata": {},
     "output_type": "display_data"
    }
   ],
   "source": [
    "train.groupby('recruitment_channel')['is_promoted'].mean().plot(kind='barh')"
   ]
  },
  {
   "cell_type": "markdown",
   "metadata": {},
   "source": [
    "### No_of_trainings"
   ]
  },
  {
   "cell_type": "code",
   "execution_count": 24,
   "metadata": {},
   "outputs": [
    {
     "data": {
      "text/plain": [
       "<matplotlib.axes._subplots.AxesSubplot at 0x118b0c0f0>"
      ]
     },
     "execution_count": 24,
     "metadata": {},
     "output_type": "execute_result"
    },
    {
     "data": {
      "image/png": "[encoded data removed]",
      "text/plain": [
       "<matplotlib.figure.Figure at 0x118ae91d0>"
      ]
     },
     "metadata": {},
     "output_type": "display_data"
    }
   ],
   "source": [
    "train['no_of_trainings'].value_counts(normalize=True).plot(kind='bar')"
   ]
  },
  {
   "cell_type": "code",
   "execution_count": 25,
   "metadata": {},
   "outputs": [
    {
     "data": {
      "text/plain": [
       "<matplotlib.axes._subplots.AxesSubplot at 0x118bd9240>"
      ]
     },
     "execution_count": 25,
     "metadata": {},
     "output_type": "execute_result"
    },
    {
     "data": {
      "image/png": "[encoded data removed]",
      "text/plain": [
       "<matplotlib.figure.Figure at 0x118c4e7f0>"
      ]
     },
     "metadata": {},
     "output_type": "display_data"
    }
   ],
   "source": [
    "test['no_of_trainings'].value_counts(normalize=True).plot(kind='bar')"
   ]
  },
  {
   "cell_type": "code",
   "execution_count": 26,
   "metadata": {},
   "outputs": [
    {
     "data": {
      "text/plain": [
       "<matplotlib.axes._subplots.AxesSubplot at 0x11870f5f8>"
      ]
     },
     "execution_count": 26,
     "metadata": {},
     "output_type": "execute_result"
    },
    {
     "data": {
      "image/png": "[encoded data removed]",
      "text/plain": [
       "<matplotlib.figure.Figure at 0x118d41470>"
      ]
     },
     "metadata": {},
     "output_type": "display_data"
    }
   ],
   "source": [
    "train.groupby('no_of_trainings')['is_promoted'].mean().plot(kind='barh')"
   ]
  },
  {
   "cell_type": "markdown",
   "metadata": {},
   "source": [
    "### Age"
   ]
  },
  {
   "cell_type": "code",
   "execution_count": 27,
   "metadata": {},
   "outputs": [
    {
     "name": "stderr",
     "output_type": "stream",
     "text": [
      "/anaconda3/lib/python3.6/site-packages/scipy/stats/stats.py:1713: FutureWarning: Using a non-tuple sequence for multidimensional indexing is deprecated; use `arr[tuple(seq)]` instead of `arr[seq]`. In the future this will be interpreted as an array index, `arr[np.array(seq)]`, which will result either in an error or a different result.\n",
      "  return np.add.reduce(sorted[indexer] * weights, axis=axis) / sumval\n"
     ]
    },
    {
     "data": {
      "text/plain": [
       "<matplotlib.axes._subplots.AxesSubplot at 0x118eb8940>"
      ]
     },
     "execution_count": 27,
     "metadata": {},
     "output_type": "execute_result"
    },
    {
     "data": {
      "image/png": "[encoded data removed]",
      "text/plain": [
       "<matplotlib.figure.Figure at 0x118cf2278>"
      ]
     },
     "metadata": {},
     "output_type": "display_data"
    }
   ],
   "source": [
    "sns.distplot(train['age'])"
   ]
  },
  {
   "cell_type": "code",
   "execution_count": 28,
   "metadata": {},
   "outputs": [
    {
     "name": "stderr",
     "output_type": "stream",
     "text": [
      "/anaconda3/lib/python3.6/site-packages/scipy/stats/stats.py:1713: FutureWarning: Using a non-tuple sequence for multidimensional indexing is deprecated; use `arr[tuple(seq)]` instead of `arr[seq]`. In the future this will be interpreted as an array index, `arr[np.array(seq)]`, which will result either in an error or a different result.\n",
      "  return np.add.reduce(sorted[indexer] * weights, axis=axis) / sumval\n"
     ]
    },
    {
     "data": {
      "text/plain": [
       "<matplotlib.axes._subplots.AxesSubplot at 0x118fb5b70>"
      ]
     },
     "execution_count": 28,
     "metadata": {},
     "output_type": "execute_result"
    },
    {
     "data": {
      "image/png": "[encoded data removed]",
      "text/plain": [
       "<matplotlib.figure.Figure at 0x118e3e0f0>"
      ]
     },
     "metadata": {},
     "output_type": "display_data"
    }
   ],
   "source": [
    "sns.distplot(test['age'])"
   ]
  },
  {
   "cell_type": "code",
   "execution_count": 29,
   "metadata": {},
   "outputs": [
    {
     "data": {
      "text/plain": [
       "<matplotlib.axes._subplots.AxesSubplot at 0x11921b588>"
      ]
     },
     "execution_count": 29,
     "metadata": {},
     "output_type": "execute_result"
    },
    {
     "data": {
      "image/png": "[encoded data removed]",
      "text/plain": [
       "<matplotlib.figure.Figure at 0x1190e6208>"
      ]
     },
     "metadata": {},
     "output_type": "display_data"
    }
   ],
   "source": [
    "sns.boxplot(train['age'])"
   ]
  },
  {
   "cell_type": "code",
   "execution_count": 30,
   "metadata": {},
   "outputs": [
    {
     "data": {
      "text/plain": [
       "<matplotlib.axes._subplots.AxesSubplot at 0x1190ec6a0>"
      ]
     },
     "execution_count": 30,
     "metadata": {},
     "output_type": "execute_result"
    },
    {
     "data": {
      "image/png": "[encoded data removed]",
      "text/plain": [
       "<matplotlib.figure.Figure at 0x1192e1748>"
      ]
     },
     "metadata": {},
     "output_type": "display_data"
    }
   ],
   "source": [
    "sns.boxplot(test['age'])"
   ]
  },
  {
   "cell_type": "code",
   "execution_count": 31,
   "metadata": {},
   "outputs": [
    {
     "data": {
      "text/plain": [
       "is_promoted\n",
       "0    34.844037\n",
       "1    34.372965\n",
       "Name: age, dtype: float64"
      ]
     },
     "execution_count": 31,
     "metadata": {},
     "output_type": "execute_result"
    }
   ],
   "source": [
    "train.groupby('is_promoted')['age'].mean()"
   ]
  },
  {
   "cell_type": "markdown",
   "metadata": {},
   "source": [
    "### Previous_year_rating"
   ]
  },
  {
   "cell_type": "code",
   "execution_count": 32,
   "metadata": {},
   "outputs": [
    {
     "data": {
      "text/plain": [
       "<matplotlib.axes._subplots.AxesSubplot at 0x119301fd0>"
      ]
     },
     "execution_count": 32,
     "metadata": {},
     "output_type": "execute_result"
    },
    {
     "data": {
      "image/png": "[encoded data removed]",
      "text/plain": [
       "<matplotlib.figure.Figure at 0x11923bef0>"
      ]
     },
     "metadata": {},
     "output_type": "display_data"
    }
   ],
   "source": [
    "train['previous_year_rating'].value_counts(normalize=True).plot(kind='bar')"
   ]
  },
  {
   "cell_type": "code",
   "execution_count": 33,
   "metadata": {},
   "outputs": [
    {
     "data": {
      "text/plain": [
       "<matplotlib.axes._subplots.AxesSubplot at 0x11923bb70>"
      ]
     },
     "execution_count": 33,
     "metadata": {},
     "output_type": "execute_result"
    },
    {
     "data": {
      "image/png": "[encoded data removed]",
      "text/plain": [
       "<matplotlib.figure.Figure at 0x1195b46a0>"
      ]
     },
     "metadata": {},
     "output_type": "display_data"
    }
   ],
   "source": [
    "test['previous_year_rating'].value_counts(normalize=True).plot(kind='bar')"
   ]
  },
  {
   "cell_type": "code",
   "execution_count": 34,
   "metadata": {},
   "outputs": [
    {
     "data": {
      "text/plain": [
       "<matplotlib.axes._subplots.AxesSubplot at 0x11965c240>"
      ]
     },
     "execution_count": 34,
     "metadata": {},
     "output_type": "execute_result"
    },
    {
     "data": {
      "image/png": "[encoded data removed]",
      "text/plain": [
       "<matplotlib.figure.Figure at 0x1195e5780>"
      ]
     },
     "metadata": {},
     "output_type": "display_data"
    }
   ],
   "source": [
    "train.groupby('previous_year_rating')['is_promoted'].mean().plot(kind='barh')"
   ]
  },
  {
   "cell_type": "code",
   "execution_count": 35,
   "metadata": {},
   "outputs": [
    {
     "data": {
      "text/plain": [
       "is_promoted\n",
       "0    3.267911\n",
       "1    3.986140\n",
       "Name: previous_year_rating, dtype: float64"
      ]
     },
     "execution_count": 35,
     "metadata": {},
     "output_type": "execute_result"
    }
   ],
   "source": [
    "train.groupby('is_promoted')['previous_year_rating'].mean()"
   ]
  },
  {
   "cell_type": "markdown",
   "metadata": {},
   "source": [
    "### Length_of_service"
   ]
  },
  {
   "cell_type": "code",
   "execution_count": 36,
   "metadata": {},
   "outputs": [
    {
     "data": {
      "text/plain": [
       "<matplotlib.axes._subplots.AxesSubplot at 0x1195e5e10>"
      ]
     },
     "execution_count": 36,
     "metadata": {},
     "output_type": "execute_result"
    },
    {
     "data": {
      "image/png": "[encoded data removed]",
      "text/plain": [
       "<matplotlib.figure.Figure at 0x119633160>"
      ]
     },
     "metadata": {},
     "output_type": "display_data"
    }
   ],
   "source": [
    "train['length_of_service'].value_counts(normalize=True).plot(kind='bar')"
   ]
  },
  {
   "cell_type": "code",
   "execution_count": 37,
   "metadata": {},
   "outputs": [
    {
     "data": {
      "text/plain": [
       "<matplotlib.axes._subplots.AxesSubplot at 0x11986f160>"
      ]
     },
     "execution_count": 37,
     "metadata": {},
     "output_type": "execute_result"
    },
    {
     "data": {
      "image/png": "[encoded data removed]",
      "text/plain": [
       "<matplotlib.figure.Figure at 0x119921208>"
      ]
     },
     "metadata": {},
     "output_type": "display_data"
    }
   ],
   "source": [
    "test['length_of_service'].value_counts(normalize=True).plot(kind='bar')"
   ]
  },
  {
   "cell_type": "code",
   "execution_count": 38,
   "metadata": {},
   "outputs": [
    {
     "data": {
      "text/plain": [
       "is_promoted\n",
       "0    5.879398\n",
       "1    5.716367\n",
       "Name: length_of_service, dtype: float64"
      ]
     },
     "execution_count": 38,
     "metadata": {},
     "output_type": "execute_result"
    }
   ],
   "source": [
    "train.groupby('is_promoted')['length_of_service'].mean()"
   ]
  },
  {
   "cell_type": "markdown",
   "metadata": {},
   "source": [
    "### KPIs_met >80%"
   ]
  },
  {
   "cell_type": "code",
   "execution_count": 39,
   "metadata": {},
   "outputs": [
    {
     "data": {
      "text/plain": [
       "0.35197416435556855"
      ]
     },
     "execution_count": 39,
     "metadata": {},
     "output_type": "execute_result"
    }
   ],
   "source": [
    "train['KPIs_met >80%'].mean()"
   ]
  },
  {
   "cell_type": "code",
   "execution_count": 40,
   "metadata": {},
   "outputs": [
    {
     "data": {
      "text/plain": [
       "0.358833546189868"
      ]
     },
     "execution_count": 40,
     "metadata": {},
     "output_type": "execute_result"
    }
   ],
   "source": [
    "test['KPIs_met >80%'].mean()"
   ]
  },
  {
   "cell_type": "code",
   "execution_count": 41,
   "metadata": {},
   "outputs": [
    {
     "data": {
      "text/plain": [
       "KPIs_met >80%\n",
       "0    0.039587\n",
       "1    0.169094\n",
       "Name: is_promoted, dtype: float64"
      ]
     },
     "execution_count": 41,
     "metadata": {},
     "output_type": "execute_result"
    }
   ],
   "source": [
    "train.groupby('KPIs_met >80%')['is_promoted'].mean()"
   ]
  },
  {
   "cell_type": "markdown",
   "metadata": {},
   "source": [
    "### Awards_won?"
   ]
  },
  {
   "cell_type": "code",
   "execution_count": 42,
   "metadata": {},
   "outputs": [
    {
     "data": {
      "text/plain": [
       "0.023171799737264635"
      ]
     },
     "execution_count": 42,
     "metadata": {},
     "output_type": "execute_result"
    }
   ],
   "source": [
    "train['awards_won?'].mean()"
   ]
  },
  {
   "cell_type": "code",
   "execution_count": 43,
   "metadata": {},
   "outputs": [
    {
     "data": {
      "text/plain": [
       "0.02277564921243082"
      ]
     },
     "execution_count": 43,
     "metadata": {},
     "output_type": "execute_result"
    }
   ],
   "source": [
    "test['awards_won?'].mean()"
   ]
  },
  {
   "cell_type": "markdown",
   "metadata": {},
   "source": [
    "### Avg_training_score"
   ]
  },
  {
   "cell_type": "code",
   "execution_count": 44,
   "metadata": {},
   "outputs": [
    {
     "name": "stderr",
     "output_type": "stream",
     "text": [
      "/anaconda3/lib/python3.6/site-packages/scipy/stats/stats.py:1713: FutureWarning: Using a non-tuple sequence for multidimensional indexing is deprecated; use `arr[tuple(seq)]` instead of `arr[seq]`. In the future this will be interpreted as an array index, `arr[np.array(seq)]`, which will result either in an error or a different result.\n",
      "  return np.add.reduce(sorted[indexer] * weights, axis=axis) / sumval\n"
     ]
    },
    {
     "data": {
      "text/plain": [
       "<matplotlib.axes._subplots.AxesSubplot at 0x1199b0668>"
      ]
     },
     "execution_count": 44,
     "metadata": {},
     "output_type": "execute_result"
    },
    {
     "data": {
      "image/png": "[encoded data removed]",
      "text/plain": [
       "<matplotlib.figure.Figure at 0x1199bdc50>"
      ]
     },
     "metadata": {},
     "output_type": "display_data"
    }
   ],
   "source": [
    "sns.distplot(train['avg_training_score'])"
   ]
  },
  {
   "cell_type": "code",
   "execution_count": 45,
   "metadata": {},
   "outputs": [
    {
     "name": "stderr",
     "output_type": "stream",
     "text": [
      "/anaconda3/lib/python3.6/site-packages/scipy/stats/stats.py:1713: FutureWarning: Using a non-tuple sequence for multidimensional indexing is deprecated; use `arr[tuple(seq)]` instead of `arr[seq]`. In the future this will be interpreted as an array index, `arr[np.array(seq)]`, which will result either in an error or a different result.\n",
      "  return np.add.reduce(sorted[indexer] * weights, axis=axis) / sumval\n"
     ]
    },
    {
     "data": {
      "text/plain": [
       "<matplotlib.axes._subplots.AxesSubplot at 0x119b77828>"
      ]
     },
     "execution_count": 45,
     "metadata": {},
     "output_type": "execute_result"
    },
    {
     "data": {
      "image/png": "[encoded data removed]",
      "text/plain": [
       "<matplotlib.figure.Figure at 0x119a49860>"
      ]
     },
     "metadata": {},
     "output_type": "display_data"
    }
   ],
   "source": [
    "sns.distplot(test['avg_training_score'])"
   ]
  },
  {
   "cell_type": "code",
   "execution_count": 46,
   "metadata": {},
   "outputs": [
    {
     "data": {
      "text/plain": [
       "is_promoted\n",
       "0    62.647686\n",
       "1    71.325193\n",
       "Name: avg_training_score, dtype: float64"
      ]
     },
     "execution_count": 46,
     "metadata": {},
     "output_type": "execute_result"
    }
   ],
   "source": [
    "train.groupby('is_promoted')['avg_training_score'].mean()"
   ]
  },
  {
   "cell_type": "markdown",
   "metadata": {},
   "source": [
    "### Preprocessing & FE"
   ]
  },
  {
   "cell_type": "code",
   "execution_count": 47,
   "metadata": {
    "collapsed": true
   },
   "outputs": [],
   "source": [
    "y = train['is_promoted']\n",
    "del train['is_promoted']\n",
    "helper = TrainTestHelper()\n",
    "data = helper.combine(train, test)"
   ]
  },
  {
   "cell_type": "code",
   "execution_count": 48,
   "metadata": {
    "collapsed": true
   },
   "outputs": [],
   "source": [
    "data['department|training'] = data['department'] + np.digitize(data['avg_training_score'], [c * 10 for c in range(3, 11)]).astype(str)\n",
    "data['kpi|training'] = data['KPIs_met >80%'].astype(str) + np.digitize(data['avg_training_score'], [c * 10 for c in range(3, 11)]).astype(str)\n",
    "data['department|kpi'] = data['department'] + data['KPIs_met >80%'].astype(str)\n",
    "data['kpi*rating'] = data['KPIs_met >80%'] * data['previous_year_rating']\n",
    "\n",
    "data['mean_training_by_department'] = data['department'].map(data.groupby('department')['avg_training_score'].mean())\n",
    "data['department_training_mean_ratio'] = data['avg_training_score'] / data['mean_training_by_department']\n",
    "\n",
    "data['mean_rating_by_department'] = data['department'].map(data.groupby('department')['previous_year_rating'].mean())\n",
    "data['department_rating_mean_ratio'] = data['previous_year_rating'] / data['mean_rating_by_department']\n",
    "\n",
    "data['mean_kpi_by_department'] = data['department'].map(data.groupby('department')['KPIs_met >80%'].mean())"
   ]
  },
  {
   "cell_type": "code",
   "execution_count": 49,
   "metadata": {
    "collapsed": true
   },
   "outputs": [],
   "source": [
    "to_cat = ['department',\n",
    "          'region',\n",
    "          'gender',\n",
    "          'recruitment_channel',\n",
    "          'department|training',\n",
    "          'department|kpi',\n",
    "          'kpi|training']\n",
    "for c in to_cat:\n",
    "    data[c] = pd.factorize(data[c])[0]"
   ]
  },
  {
   "cell_type": "code",
   "execution_count": 50,
   "metadata": {
    "collapsed": true
   },
   "outputs": [],
   "source": [
    "ed_dict = {'Below Secondary': 0, 'Bachelor\\'s': 1, 'Master\\'s & above': 2}\n",
    "data['education'] = data['education'].map(ed_dict)\n",
    "#data = data.fillna(-1)"
   ]
  },
  {
   "cell_type": "code",
   "execution_count": 51,
   "metadata": {
    "collapsed": true
   },
   "outputs": [],
   "source": [
    "train, test = helper.split(data)"
   ]
  },
  {
   "cell_type": "code",
   "execution_count": 52,
   "metadata": {
    "collapsed": true
   },
   "outputs": [],
   "source": [
    "###"
   ]
  },
  {
   "cell_type": "code",
   "execution_count": 53,
   "metadata": {
    "collapsed": true
   },
   "outputs": [],
   "source": [
    "params = {'app': 'binary',\n",
    "          'learning_rate': 0.01,\n",
    "          'num_leaves': 10,\n",
    "          'feature_fraction': 0.5,\n",
    "          'lamda_l1': 3,\n",
    "          'metric': 'binary_logloss'}\n",
    "cvparams = {'nround': 5000,\n",
    "            'stopping': 20,\n",
    "            'verbose': 200,\n",
    "            'metric': log_loss,\n",
    "            'folds': KFold(n_splits=5, shuffle=True, random_state=0)}\n",
    "wiz = LGBWizard(params, cvparams)"
   ]
  },
  {
   "cell_type": "code",
   "execution_count": 54,
   "metadata": {
    "scrolled": false
   },
   "outputs": [
    {
     "name": "stdout",
     "output_type": "stream",
     "text": [
      "Training until validation scores don't improve for 20 rounds.\n",
      "[200]\ttraining's binary_logloss: 0.179126\tvalid_1's binary_logloss: 0.17558\n",
      "[400]\ttraining's binary_logloss: 0.164817\tvalid_1's binary_logloss: 0.161948\n",
      "[600]\ttraining's binary_logloss: 0.160415\tvalid_1's binary_logloss: 0.158934\n",
      "[800]\ttraining's binary_logloss: 0.157855\tvalid_1's binary_logloss: 0.158061\n",
      "[1000]\ttraining's binary_logloss: 0.155965\tvalid_1's binary_logloss: 0.157655\n",
      "[1200]\ttraining's binary_logloss: 0.15431\tvalid_1's binary_logloss: 0.157484\n",
      "Early stopping, best iteration is:\n",
      "[1214]\ttraining's binary_logloss: 0.154178\tvalid_1's binary_logloss: 0.157466\n",
      "Fold 0: 0.15747\n",
      "Training until validation scores don't improve for 20 rounds.\n",
      "[200]\ttraining's binary_logloss: 0.178636\tvalid_1's binary_logloss: 0.17661\n",
      "[400]\ttraining's binary_logloss: 0.164388\tvalid_1's binary_logloss: 0.163783\n",
      "[600]\ttraining's binary_logloss: 0.160138\tvalid_1's binary_logloss: 0.160628\n",
      "[800]\ttraining's binary_logloss: 0.157659\tvalid_1's binary_logloss: 0.159394\n",
      "[1000]\ttraining's binary_logloss: 0.155822\tvalid_1's binary_logloss: 0.158809\n",
      "[1200]\ttraining's binary_logloss: 0.154205\tvalid_1's binary_logloss: 0.158438\n",
      "[1400]\ttraining's binary_logloss: 0.152685\tvalid_1's binary_logloss: 0.158155\n",
      "[1600]\ttraining's binary_logloss: 0.151334\tvalid_1's binary_logloss: 0.157883\n",
      "Early stopping, best iteration is:\n",
      "[1742]\ttraining's binary_logloss: 0.150434\tvalid_1's binary_logloss: 0.157751\n",
      "Fold 1: 0.15775\n",
      "Training until validation scores don't improve for 20 rounds.\n",
      "[200]\ttraining's binary_logloss: 0.178647\tvalid_1's binary_logloss: 0.177451\n",
      "[400]\ttraining's binary_logloss: 0.164636\tvalid_1's binary_logloss: 0.163165\n",
      "[600]\ttraining's binary_logloss: 0.160378\tvalid_1's binary_logloss: 0.159766\n",
      "[800]\ttraining's binary_logloss: 0.15792\tvalid_1's binary_logloss: 0.158464\n",
      "[1000]\ttraining's binary_logloss: 0.156092\tvalid_1's binary_logloss: 0.157854\n",
      "Early stopping, best iteration is:\n",
      "[1097]\ttraining's binary_logloss: 0.15531\tvalid_1's binary_logloss: 0.157703\n",
      "Fold 2: 0.15770\n",
      "Training until validation scores don't improve for 20 rounds.\n",
      "[200]\ttraining's binary_logloss: 0.176264\tvalid_1's binary_logloss: 0.185893\n",
      "[400]\ttraining's binary_logloss: 0.162184\tvalid_1's binary_logloss: 0.172573\n",
      "[600]\ttraining's binary_logloss: 0.157955\tvalid_1's binary_logloss: 0.169313\n",
      "[800]\ttraining's binary_logloss: 0.155549\tvalid_1's binary_logloss: 0.168119\n",
      "[1000]\ttraining's binary_logloss: 0.153725\tvalid_1's binary_logloss: 0.167416\n",
      "[1200]\ttraining's binary_logloss: 0.152125\tvalid_1's binary_logloss: 0.166947\n",
      "Early stopping, best iteration is:\n",
      "[1370]\ttraining's binary_logloss: 0.150853\tvalid_1's binary_logloss: 0.166631\n",
      "Fold 3: 0.16663\n",
      "Training until validation scores don't improve for 20 rounds.\n",
      "[200]\ttraining's binary_logloss: 0.177915\tvalid_1's binary_logloss: 0.179233\n",
      "[400]\ttraining's binary_logloss: 0.163754\tvalid_1's binary_logloss: 0.166066\n",
      "[600]\ttraining's binary_logloss: 0.159405\tvalid_1's binary_logloss: 0.162909\n",
      "[800]\ttraining's binary_logloss: 0.156907\tvalid_1's binary_logloss: 0.161634\n",
      "[1000]\ttraining's binary_logloss: 0.155025\tvalid_1's binary_logloss: 0.161159\n",
      "[1200]\ttraining's binary_logloss: 0.153357\tvalid_1's binary_logloss: 0.160794\n",
      "Early stopping, best iteration is:\n",
      "[1229]\ttraining's binary_logloss: 0.153145\tvalid_1's binary_logloss: 0.160747\n",
      "Fold 4: 0.16075\n",
      "\n",
      "Mean score: 0.16006\n",
      "OOF score: 0.16006\n",
      "Std of score: 0.00350\n",
      "Mean std of test objects: 0.00471\n"
     ]
    }
   ],
   "source": [
    "wiz.fit(train, y, test, permute=3, get_shap=True)"
   ]
  },
  {
   "cell_type": "code",
   "execution_count": null,
   "metadata": {
    "collapsed": true
   },
   "outputs": [],
   "source": [
    "Mean score: 0.15992\n",
    "OOF score: 0.15992\n",
    "Std of score: 0.00328\n",
    "Mean std of test objects: 0.00579"
   ]
  },
  {
   "cell_type": "code",
   "execution_count": 55,
   "metadata": {},
   "outputs": [
    {
     "data": {
      "text/html": [
       "<div>\n",
       "<style scoped>\n",
       "    .dataframe tbody tr th:only-of-type {\n",
       "        vertical-align: middle;\n",
       "    }\n",
       "\n",
       "    .dataframe tbody tr th {\n",
       "        vertical-align: top;\n",
       "    }\n",
       "\n",
       "    .dataframe thead th {\n",
       "        text-align: right;\n",
       "    }\n",
       "</style>\n",
       "<table border=\"1\" class=\"dataframe\">\n",
       "  <thead>\n",
       "    <tr style=\"text-align: right;\">\n",
       "      <th></th>\n",
       "      <th>permutation</th>\n",
       "      <th>shap</th>\n",
       "      <th>gain</th>\n",
       "      <th>split</th>\n",
       "    </tr>\n",
       "  </thead>\n",
       "  <tbody>\n",
       "    <tr>\n",
       "      <th>department_training_mean_ratio</th>\n",
       "      <td>0.099321</td>\n",
       "      <td>20919.193262</td>\n",
       "      <td>199233.204041</td>\n",
       "      <td>1548.6</td>\n",
       "    </tr>\n",
       "    <tr>\n",
       "      <th>KPIs_met &gt;80%</th>\n",
       "      <td>0.041488</td>\n",
       "      <td>45399.239469</td>\n",
       "      <td>75526.067441</td>\n",
       "      <td>393.0</td>\n",
       "    </tr>\n",
       "    <tr>\n",
       "      <th>avg_training_score</th>\n",
       "      <td>0.012904</td>\n",
       "      <td>22746.065167</td>\n",
       "      <td>62842.496273</td>\n",
       "      <td>1314.6</td>\n",
       "    </tr>\n",
       "    <tr>\n",
       "      <th>kpi*rating</th>\n",
       "      <td>0.010274</td>\n",
       "      <td>20179.312456</td>\n",
       "      <td>44996.412686</td>\n",
       "      <td>428.6</td>\n",
       "    </tr>\n",
       "    <tr>\n",
       "      <th>awards_won?</th>\n",
       "      <td>0.004384</td>\n",
       "      <td>2704.077636</td>\n",
       "      <td>18506.927545</td>\n",
       "      <td>426.0</td>\n",
       "    </tr>\n",
       "    <tr>\n",
       "      <th>kpi|training</th>\n",
       "      <td>0.003908</td>\n",
       "      <td>12556.271230</td>\n",
       "      <td>20536.533263</td>\n",
       "      <td>479.4</td>\n",
       "    </tr>\n",
       "    <tr>\n",
       "      <th>department_rating_mean_ratio</th>\n",
       "      <td>0.002892</td>\n",
       "      <td>7222.537039</td>\n",
       "      <td>16112.702393</td>\n",
       "      <td>937.8</td>\n",
       "    </tr>\n",
       "    <tr>\n",
       "      <th>department|training</th>\n",
       "      <td>0.002298</td>\n",
       "      <td>5356.714300</td>\n",
       "      <td>74607.343699</td>\n",
       "      <td>627.6</td>\n",
       "    </tr>\n",
       "    <tr>\n",
       "      <th>region</th>\n",
       "      <td>0.002239</td>\n",
       "      <td>5000.788246</td>\n",
       "      <td>8131.011845</td>\n",
       "      <td>1103.2</td>\n",
       "    </tr>\n",
       "    <tr>\n",
       "      <th>age</th>\n",
       "      <td>0.001948</td>\n",
       "      <td>4715.127000</td>\n",
       "      <td>6213.118770</td>\n",
       "      <td>1036.6</td>\n",
       "    </tr>\n",
       "    <tr>\n",
       "      <th>length_of_service</th>\n",
       "      <td>0.001840</td>\n",
       "      <td>2619.734665</td>\n",
       "      <td>4924.409616</td>\n",
       "      <td>735.0</td>\n",
       "    </tr>\n",
       "    <tr>\n",
       "      <th>previous_year_rating</th>\n",
       "      <td>0.001796</td>\n",
       "      <td>4801.332260</td>\n",
       "      <td>14020.198562</td>\n",
       "      <td>527.0</td>\n",
       "    </tr>\n",
       "    <tr>\n",
       "      <th>department|kpi</th>\n",
       "      <td>0.000908</td>\n",
       "      <td>2489.877607</td>\n",
       "      <td>17026.003527</td>\n",
       "      <td>432.6</td>\n",
       "    </tr>\n",
       "    <tr>\n",
       "      <th>mean_training_by_department</th>\n",
       "      <td>0.000772</td>\n",
       "      <td>3123.352577</td>\n",
       "      <td>16025.473622</td>\n",
       "      <td>399.0</td>\n",
       "    </tr>\n",
       "    <tr>\n",
       "      <th>mean_rating_by_department</th>\n",
       "      <td>0.000465</td>\n",
       "      <td>1796.765888</td>\n",
       "      <td>8696.502820</td>\n",
       "      <td>282.8</td>\n",
       "    </tr>\n",
       "    <tr>\n",
       "      <th>education</th>\n",
       "      <td>0.000338</td>\n",
       "      <td>1778.487898</td>\n",
       "      <td>1592.269307</td>\n",
       "      <td>309.6</td>\n",
       "    </tr>\n",
       "    <tr>\n",
       "      <th>department</th>\n",
       "      <td>0.000319</td>\n",
       "      <td>2368.417742</td>\n",
       "      <td>12492.334582</td>\n",
       "      <td>293.8</td>\n",
       "    </tr>\n",
       "    <tr>\n",
       "      <th>no_of_trainings</th>\n",
       "      <td>0.000218</td>\n",
       "      <td>1018.598665</td>\n",
       "      <td>1026.636415</td>\n",
       "      <td>236.6</td>\n",
       "    </tr>\n",
       "    <tr>\n",
       "      <th>recruitment_channel</th>\n",
       "      <td>0.000213</td>\n",
       "      <td>328.928199</td>\n",
       "      <td>871.337412</td>\n",
       "      <td>188.6</td>\n",
       "    </tr>\n",
       "    <tr>\n",
       "      <th>mean_kpi_by_department</th>\n",
       "      <td>0.000085</td>\n",
       "      <td>679.299966</td>\n",
       "      <td>6073.634072</td>\n",
       "      <td>172.4</td>\n",
       "    </tr>\n",
       "    <tr>\n",
       "      <th>gender</th>\n",
       "      <td>0.000048</td>\n",
       "      <td>243.234370</td>\n",
       "      <td>584.184675</td>\n",
       "      <td>100.8</td>\n",
       "    </tr>\n",
       "  </tbody>\n",
       "</table>\n",
       "</div>"
      ],
      "text/plain": [
       "                                permutation          shap           gain  \\\n",
       "department_training_mean_ratio     0.099321  20919.193262  199233.204041   \n",
       "KPIs_met >80%                      0.041488  45399.239469   75526.067441   \n",
       "avg_training_score                 0.012904  22746.065167   62842.496273   \n",
       "kpi*rating                         0.010274  20179.312456   44996.412686   \n",
       "awards_won?                        0.004384   2704.077636   18506.927545   \n",
       "kpi|training                       0.003908  12556.271230   20536.533263   \n",
       "department_rating_mean_ratio       0.002892   7222.537039   16112.702393   \n",
       "department|training                0.002298   5356.714300   74607.343699   \n",
       "region                             0.002239   5000.788246    8131.011845   \n",
       "age                                0.001948   4715.127000    6213.118770   \n",
       "length_of_service                  0.001840   2619.734665    4924.409616   \n",
       "previous_year_rating               0.001796   4801.332260   14020.198562   \n",
       "department|kpi                     0.000908   2489.877607   17026.003527   \n",
       "mean_training_by_department        0.000772   3123.352577   16025.473622   \n",
       "mean_rating_by_department          0.000465   1796.765888    8696.502820   \n",
       "education                          0.000338   1778.487898    1592.269307   \n",
       "department                         0.000319   2368.417742   12492.334582   \n",
       "no_of_trainings                    0.000218   1018.598665    1026.636415   \n",
       "recruitment_channel                0.000213    328.928199     871.337412   \n",
       "mean_kpi_by_department             0.000085    679.299966    6073.634072   \n",
       "gender                             0.000048    243.234370     584.184675   \n",
       "\n",
       "                                 split  \n",
       "department_training_mean_ratio  1548.6  \n",
       "KPIs_met >80%                    393.0  \n",
       "avg_training_score              1314.6  \n",
       "kpi*rating                       428.6  \n",
       "awards_won?                      426.0  \n",
       "kpi|training                     479.4  \n",
       "department_rating_mean_ratio     937.8  \n",
       "department|training              627.6  \n",
       "region                          1103.2  \n",
       "age                             1036.6  \n",
       "length_of_service                735.0  \n",
       "previous_year_rating             527.0  \n",
       "department|kpi                   432.6  \n",
       "mean_training_by_department      399.0  \n",
       "mean_rating_by_department        282.8  \n",
       "education                        309.6  \n",
       "department                       293.8  \n",
       "no_of_trainings                  236.6  \n",
       "recruitment_channel              188.6  \n",
       "mean_kpi_by_department           172.4  \n",
       "gender                           100.8  "
      ]
     },
     "execution_count": 55,
     "metadata": {},
     "output_type": "execute_result"
    }
   ],
   "source": [
    "wiz.get_importances()"
   ]
  },
  {
   "cell_type": "code",
   "execution_count": 56,
   "metadata": {},
   "outputs": [
    {
     "data": {
      "image/png": "[encoded data removed]",
      "text/plain": [
       "<matplotlib.figure.Figure at 0x1197b76a0>"
      ]
     },
     "metadata": {},
     "output_type": "display_data"
    }
   ],
   "source": [
    "wiz.plot_prediction_std()"
   ]
  },
  {
   "cell_type": "code",
   "execution_count": null,
   "metadata": {
    "collapsed": true
   },
   "outputs": [],
   "source": []
  },
  {
   "cell_type": "code",
   "execution_count": 57,
   "metadata": {},
   "outputs": [
    {
     "data": {
      "text/plain": [
       "0.5308544303797469"
      ]
     },
     "execution_count": 57,
     "metadata": {},
     "output_type": "execute_result"
    }
   ],
   "source": [
    "f1_score(y, 1 * (wiz.cvpred > 0.25))"
   ]
  },
  {
   "cell_type": "code",
   "execution_count": 58,
   "metadata": {
    "collapsed": true
   },
   "outputs": [],
   "source": [
    "#sub['is_promoted'] = wiz.pred\n",
    "#sub.to_csv('lgb_starter_0.533CV_mean_enc.csv', index=False)"
   ]
  },
  {
   "cell_type": "code",
   "execution_count": 59,
   "metadata": {
    "collapsed": true
   },
   "outputs": [],
   "source": [
    "oof = pd.DataFrame()\n",
    "oof['is_promoted'] = wiz.cvpred"
   ]
  },
  {
   "cell_type": "code",
   "execution_count": 60,
   "metadata": {
    "collapsed": true
   },
   "outputs": [],
   "source": [
    "# 4 Dima to ensemble\n",
    "oof.to_csv('oof.csv', index=False)\n",
    "sub.to_csv('sub.csv', index=False)"
   ]
  }
 ],
 "metadata": {
  "kernelspec": {
   "display_name": "Python 3",
   "language": "python",
   "name": "python3"
  },
  "language_info": {
   "codemirror_mode": {
    "name": "ipython",
    "version": 3
   },
   "file_extension": ".py",
   "mimetype": "text/x-python",
   "name": "python",
   "nbconvert_exporter": "python",
   "pygments_lexer": "ipython3",
   "version": "3.6.1"
  }
 },
 "nbformat": 4,
 "nbformat_minor": 2
}
